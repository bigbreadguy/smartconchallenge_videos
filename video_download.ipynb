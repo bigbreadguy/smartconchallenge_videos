{
 "cells": [
  {
   "cell_type": "code",
   "execution_count": 1,
   "metadata": {},
   "outputs": [
    {
     "name": "stdout",
     "output_type": "stream",
     "text": [
      "Target Video 17 Found\n"
     ]
    }
   ],
   "source": [
    "import os\n",
    "import tqdm\n",
    "import pytube\n",
    "from pytube.cli import on_progress\n",
    "\n",
    "urls = [\"https://youtu.be/3iVnnnFiPxM\", \"https://youtu.be/q4AnBwfs8eo\", \"https://youtu.be/HvAI3-xzRuw\",\n",
    "       \"https://youtu.be/-sitEksjxUI\", \"https://youtu.be/_EVGhL3Qq_k\", \"https://youtu.be/0plrFRNSDAo\",\n",
    "       \"https://youtu.be/_fa_xy7aMGU\", \"https://youtu.be/z09wf6cZBno\", \"https://youtu.be/klBS8MrH2es\",\n",
    "       \"https://youtu.be/Ii1nlK2Fv9E\", \"https://youtu.be/DYfh8i48_IQ\", \"https://youtu.be/tYpOUfcT3i4\",\n",
    "       \"https://youtu.be/7E6397dVO40\", \"https://youtu.be/uAD7jWc9x8o\", \"https://youtu.be/a96ZrgkpIBY\",\n",
    "       \"https://youtu.be/MfW2kzkTXfg\", \"https://youtu.be/PUVJki2Qfvs\"]\n",
    "\n",
    "save_dir = os.path.join(os.getcwd(), \"download\")\n",
    "if not os.path.exists(save_dir):\n",
    "    os.mkdir(save_dir)\n",
    "print(f\"Target Video {len(urls)} Found\")"
   ]
  },
  {
   "cell_type": "code",
   "execution_count": 3,
   "metadata": {},
   "outputs": [
    {
     "name": "stderr",
     "output_type": "stream",
     "text": [
      "100%|██████████████████████████████████████████████████████████████████████████████████████████████████████████████████| 17/17 [08:49<00:00, 31.15s/it]\n"
     ]
    }
   ],
   "source": [
    "for url in tqdm.tqdm(urls):\n",
    "    yt = pytube.YouTube(url)\n",
    "    yt.streams.filter(progressive=True, file_extension=\"mp4\").order_by(\"resolution\").desc().first().download(save_dir)"
   ]
  },
  {
   "cell_type": "code",
   "execution_count": null,
   "metadata": {},
   "outputs": [],
   "source": []
  }
 ],
 "metadata": {
  "kernelspec": {
   "display_name": "youtube_crawl",
   "language": "python",
   "name": "youtube_crawl"
  },
  "language_info": {
   "codemirror_mode": {
    "name": "ipython",
    "version": 3
   },
   "file_extension": ".py",
   "mimetype": "text/x-python",
   "name": "python",
   "nbconvert_exporter": "python",
   "pygments_lexer": "ipython3",
   "version": "3.9.6"
  }
 },
 "nbformat": 4,
 "nbformat_minor": 5
}
